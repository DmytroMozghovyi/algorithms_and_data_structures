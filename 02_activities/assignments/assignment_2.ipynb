{
 "cells": [
  {
   "cell_type": "markdown",
   "metadata": {},
   "source": [
    "# Practice Interview\n",
    "\n",
    "## Objective\n",
    "\n",
    "_*The partner assignment aims to provide participants with the opportunity to practice coding in an interview context. You will analyze your partner's Assignment 1. Moreover, code reviews are common practice in a software development team. This assignment should give you a taste of the code review process.*_\n",
    "\n",
    "## Group Size\n",
    "\n",
    "Each group should have 2 people. You will be assigned a partner\n",
    "\n",
    "## Part 1:\n",
    "\n",
    "You and your partner must share each other's Assignment 1 submission."
   ]
  },
  {
   "cell_type": "markdown",
   "metadata": {},
   "source": [
    "\n",
    "## Part 2:\n",
    "\n",
    "Create a Jupyter Notebook, create 6 of the following headings, and complete the following for your partner's assignment 1:\n",
    "\n",
    "-   Paraphrase the problem in your own words.\n"
   ]
  },
  {
   "cell_type": "code",
   "execution_count": 6,
   "metadata": {},
   "outputs": [],
   "source": [
    "# Your answer here\n",
    "# We need to traverse the tree, exploring all possible paths from the root to each leaf node.\n",
    "# For each path, we need to create a list of node values encountered along that path."
   ]
  },
  {
   "cell_type": "markdown",
   "metadata": {},
   "source": [
    "\n",
    "-   Create 1 new example that demonstrates you understand the problem. Trace/walkthrough 1 example that your partner made and explain it.\n"
   ]
  },
  {
   "cell_type": "code",
   "execution_count": 7,
   "metadata": {},
   "outputs": [],
   "source": [
    "# Your answer here\n",
    "# Example \n",
    "# Input: root = [8, 5, 4, 15, 1, 6]\n",
    "# Output: [[8,5], [8,4,15,1], [8,4,15,6]]\n"
   ]
  },
  {
   "cell_type": "markdown",
   "metadata": {},
   "source": [
    "\n",
    "-   Copy the solution your partner wrote. \n"
   ]
  },
  {
   "cell_type": "code",
   "execution_count": null,
   "metadata": {},
   "outputs": [],
   "source": [
    "# Your answer here\n",
    "class TreeNode(object):\n",
    "  def __init__(self, val=0, left=None, right=None):\n",
    "    self.val = val\n",
    "    self.left = left\n",
    "    self.right = right\n",
    "\n",
    "# Main function\n",
    "def bt_path(root: TreeNode):\n",
    "  result = []  \n",
    "  TreePathsHelper(root, [], result)\n",
    "  return result\n",
    "\n",
    "# Helper function \n",
    "def TreePathHelper(node, path, result):\n",
    "  # Base case\n",
    "  if not node:\n",
    "    return\n",
    "    \n",
    "  # Append current node value to the path\n",
    "  path.append(node.val)  \n",
    "    \n",
    "  # Check for leaf node and add the current path to result (list of lists)\n",
    "  if not node.left and not node.right:\n",
    "    result.append(path)  \n",
    "  else:\n",
    "    # Otherwise, continue on both left and right children\n",
    "    TreePathHelper(node.left, path[:], result) \n",
    "    TreePathHelper(node.right, path[:], result) \n",
    "\n",
    "# Example 1 Tree structure\n",
    "root = TreeNode(1)\n",
    "root.left = TreeNode(2)\n",
    "root.right = TreeNode(2)\n",
    "root.left.left = TreeNode(3)\n",
    "root.left.right = TreeNode(5)\n",
    "root.right.left = TreeNode(6)\n",
    "root.right.right = TreeNode(7)\n",
    "\n",
    "\n",
    "print(\"Example 1: \", bt_path(root))\n",
    "\n",
    "\n",
    "# Example 2 Tree structure\n",
    "root = TreeNode(10)\n",
    "root.left = TreeNode(9)\n",
    "root.right = TreeNode(7)\n",
    "root.left.left = TreeNode(8)\n",
    "\n",
    "print(\"Example 2: \", bt_path(root))"
   ]
  },
  {
   "cell_type": "markdown",
   "metadata": {},
   "source": [
    "\n",
    "-   Explain why their solution works in your own words.\n"
   ]
  },
  {
   "cell_type": "code",
   "execution_count": 9,
   "metadata": {},
   "outputs": [],
   "source": [
    "# Your answer here\n",
    "# The main function initializes a list to store paths and calls a helper function with \n",
    "# the root node and an empty path. The helper function checks if a node exists, adds its value to the path,\n",
    "# and if it's a leaf node, adds the path to the result list. It then recursively explores the left \n",
    "# and right children, allowing it to traverse from root to leaf and store each path's node values."
   ]
  },
  {
   "cell_type": "markdown",
   "metadata": {},
   "source": [
    "\n",
    "-   Explain the problem’s time and space complexity in your own words.\n"
   ]
  },
  {
   "cell_type": "code",
   "execution_count": 10,
   "metadata": {},
   "outputs": [],
   "source": [
    "# Your answer here\n",
    "# Time complexity is O(n) because we check each node once.\n",
    "# Space complexity varies based on the tree's shape. In the worst case, an unbalanced tree requires O(n^2) space.\n",
    "# In the best case, a balanced tree needs O(n log n) space."
   ]
  },
  {
   "cell_type": "markdown",
   "metadata": {},
   "source": [
    "\n",
    "-   Critique your partner's solution, including explanation, and if there is anything that should be adjusted.\n"
   ]
  },
  {
   "cell_type": "code",
   "execution_count": 11,
   "metadata": {},
   "outputs": [],
   "source": [
    "# Your answer here\n",
    "# 1. Naming inconsistency: The main function calls \"TreePathsHelper\",\n",
    "# but the helper function is named \"TreePathHelper\" (missing an 's'). This will cause a NameError.\n",
    "# 2. Path copying: In the helper function, when a leaf node is reached, \n",
    "# it appends the current path to the result without copying. \n",
    "# This will lead to all paths in the result pointing to the same list object,\n",
    "# which will be modified in subsequent recursive calls. \n",
    "# To fix this, use result.append(path[:]) to append a copy of the path.\n",
    "# 3. Unnecessary path copying in recursive calls: The recursive calls create a new copy \n",
    "# of the path (path[:]) for each call. This is inefficient and unnecessary. \n",
    "# Instead, we should modify the path in-place and backtrack after the recursive calls.\n",
    "# 4. Missing backtracking: After processing a node and its children, the current node's value should \n",
    "# be removed from the path. This step is missing, which can lead to incorrect paths."
   ]
  },
  {
   "cell_type": "markdown",
   "metadata": {},
   "source": [
    "\n",
    "## Part 3:\n",
    "\n",
    "Please write a 200 word reflection documenting your process from assignment 1, and your presentation and review experience with your partner at the bottom of the Jupyter Notebook under a new heading \"Reflection.\" Again, export this Notebook as pdf.\n"
   ]
  },
  {
   "cell_type": "markdown",
   "metadata": {},
   "source": [
    "### Reflection"
   ]
  },
  {
   "cell_type": "code",
   "execution_count": 12,
   "metadata": {},
   "outputs": [],
   "source": [
    "# Your answer here\n",
    "# In Assignment 1, I addressed the \"Missing Number in Range\" problem with a focus on efficiency and thoroughness. \n",
    "# My solution effectively identifies missing numbers by first determining the range using max(nums), ensuring all potential missing numbers are considered.\n",
    "# Converting the input list to a set allows for O(1) time complexity in checking if a number exists, significantly improving performance for large inputs. \n",
    "# By iterating from 0 to max(nums), inclusive, I guarantee that all possible missing numbers are identified.\n",
    "# I explained these key aspects of my solution. \n",
    "# Explaining the time complexity benefits of using a set and the rationale behind my range determination helped solidify my understanding of the problem and my approach. This process also highlighted the importance of clear communication in technical contexts.\n",
    "# Reviewing my partner's solution provided valuable insights into alternative problem-solving strategies. This exchange of ideas enhanced my ability to analyze and optimize code, as well as appreciate different perspectives on solving programming challenges.\n",
    "# Overall, this assignment deepened my understanding of algorithm efficiency and data structure selection. The peer review process improved my ability to critically evaluate different approaches to problem-solving in programming, preparing me for more complex challenges.\n"
   ]
  },
  {
   "cell_type": "markdown",
   "metadata": {},
   "source": [
    "\n",
    "## Evaluation Criteria\n",
    "\n",
    "We are looking for the similar points as Assignment 1\n",
    "\n",
    "-   Problem is accurately stated\n",
    "\n",
    "-   New example is correct and easily understandable\n",
    "\n",
    "-   Correctness, time, and space complexity of the coding solution\n",
    "\n",
    "-   Clarity in explaining why the solution works, its time and space complexity\n",
    "\n",
    "-   Quality of critique of your partner's assignment, if necessary\n"
   ]
  },
  {
   "cell_type": "markdown",
   "metadata": {},
   "source": [
    "## Submission Information\n",
    "\n",
    "🚨 **Please review our [Assignment Submission Guide](https://github.com/UofT-DSI/onboarding/blob/main/onboarding_documents/submissions.md)** 🚨 for detailed instructions on how to format, branch, and submit your work. Following these guidelines is crucial for your submissions to be evaluated correctly.\n",
    "\n",
    "### Submission Parameters:\n",
    "* Submission Due Date: `HH:MM AM/PM - DD/MM/YYYY`\n",
    "* The branch name for your repo should be: `assignment-2`\n",
    "* What to submit for this assignment:\n",
    "    * This Jupyter Notebook (assignment_2.ipynb) should be populated and should be the only change in your pull request.\n",
    "* What the pull request link should look like for this assignment: `https://github.com/<your_github_username>/algorithms_and_data_structures/pull/<pr_id>`\n",
    "    * Open a private window in your browser. Copy and paste the link to your pull request into the address bar. Make sure you can see your pull request properly. This helps the technical facilitator and learning support staff review your submission easily.\n",
    "\n",
    "Checklist:\n",
    "- [ ] Created a branch with the correct naming convention.\n",
    "- [ ] Ensured that the repository is public.\n",
    "- [ ] Reviewed the PR description guidelines and adhered to them.\n",
    "- [ ] Verify that the link is accessible in a private browser window.\n",
    "\n",
    "If you encounter any difficulties or have questions, please don't hesitate to reach out to our team via our Slack at `#cohort-3-help`. Our Technical Facilitators and Learning Support staff are here to help you navigate any challenges.\n"
   ]
  }
 ],
 "metadata": {
  "kernelspec": {
   "display_name": "dsi_participant",
   "language": "python",
   "name": "python3"
  },
  "language_info": {
   "codemirror_mode": {
    "name": "ipython",
    "version": 3
   },
   "file_extension": ".py",
   "mimetype": "text/x-python",
   "name": "python",
   "nbconvert_exporter": "python",
   "pygments_lexer": "ipython3",
   "version": "3.9.15"
  }
 },
 "nbformat": 4,
 "nbformat_minor": 2
}
